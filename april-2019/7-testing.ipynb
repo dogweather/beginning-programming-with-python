{
 "cells": [
  {
   "cell_type": "markdown",
   "metadata": {},
   "source": [
    "Testing: fail first, and fail often\n",
    "-----------------------------------\n",
    "\n",
    "* The pytest testing tool\n",
    "* Testing functions\n",
    "* Running a failing test\n",
    "* Coding until the test passes\n",
    "* Refactoring (cleanup the code, DRY)\n",
    "* Fixtures"
   ]
  },
  {
   "cell_type": "markdown",
   "metadata": {},
   "source": [
    "The unittest testing tool\n",
    "-----------------------"
   ]
  },
  {
   "cell_type": "code",
   "execution_count": 12,
   "metadata": {},
   "outputs": [
    {
     "name": "stderr",
     "output_type": "stream",
     "text": [
      "..\n",
      "----------------------------------------------------------------------\n",
      "Ran 2 tests in 0.013s\n",
      "\n",
      "OK\n"
     ]
    },
    {
     "data": {
      "text/plain": [
       "<unittest.main.TestProgram at 0x10e64bc50>"
      ]
     },
     "execution_count": 12,
     "metadata": {},
     "output_type": "execute_result"
    }
   ],
   "source": [
    "def age_in_dog_years(human_age):\n",
    "    return human_age * 7\n",
    "\n",
    "\n",
    "\n",
    "import unittest\n",
    "\n",
    "class TestDogYears(unittest.TestCase):\n",
    "    \n",
    "    def setUp(self):\n",
    "        self.valid_ages = [1, 2, 3, 10, 100]\n",
    "        \n",
    "    \n",
    "    def test_works_for_a_positive_number(self):\n",
    "        self.assertEqual(age_in_dog_years(21), 147)\n",
    "\n",
    "    def test_returns_integers(self):\n",
    "        for age in self.valid_ages:\n",
    "            self.assertEqual( type(age_in_dog_years(age)), int )\n",
    "        \n",
    "        \n",
    "# A bit of an ugly hack to get this working inside a Jupyter Notebook\n",
    "unittest.main(argv=['first-arg-is-ignored'], exit=False)"
   ]
  },
  {
   "cell_type": "code",
   "execution_count": 8,
   "metadata": {},
   "outputs": [
    {
     "data": {
      "text/plain": [
       "70"
      ]
     },
     "execution_count": 8,
     "metadata": {},
     "output_type": "execute_result"
    }
   ],
   "source": [
    "age_in_dog_years(10)"
   ]
  },
  {
   "cell_type": "markdown",
   "metadata": {},
   "source": [
    "Fixtures\n",
    "--------"
   ]
  },
  {
   "cell_type": "code",
   "execution_count": null,
   "metadata": {},
   "outputs": [],
   "source": []
  }
 ],
 "metadata": {
  "kernelspec": {
   "display_name": "Python 3",
   "language": "python",
   "name": "python3"
  },
  "language_info": {
   "codemirror_mode": {
    "name": "ipython",
    "version": 3
   },
   "file_extension": ".py",
   "mimetype": "text/x-python",
   "name": "python",
   "nbconvert_exporter": "python",
   "pygments_lexer": "ipython3",
   "version": "3.7.1"
  }
 },
 "nbformat": 4,
 "nbformat_minor": 2
}
