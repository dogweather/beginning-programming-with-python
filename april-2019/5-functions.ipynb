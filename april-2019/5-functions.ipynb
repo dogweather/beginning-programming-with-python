{
 "cells": [
  {
   "cell_type": "markdown",
   "metadata": {},
   "source": [
    "Session 5: Functions: self-describing re-usable code\n",
    "=========================================\n",
    "\n",
    "* Introduction\n",
    "  * How they work: _the_ Stack!\n",
    "    * Ever wondered why it's called a **stack** trace?\n",
    "* Passing arguments\n",
    "* Positional arguments\n",
    "  * Start thinking about the API you're creating\n",
    "  * Clean Code\n",
    "* Arbitrary positional arguments\n",
    "* Keyword arguments\n",
    "* Arbitrary keyword arguments\n",
    "* Default values\n",
    "  * But watch out for the 'control-variable anti-\n",
    "    pattern'\n",
    "    * Logic now in two places.\n",
    "    * Function more difficult to debug.\n",
    "* Return values\n",
    "* Modules\n",
    "* Importing functions\n",
    "* Importing specific functions"
   ]
  },
  {
   "cell_type": "markdown",
   "metadata": {},
   "source": [
    "Introduction\n",
    "------------"
   ]
  },
  {
   "cell_type": "code",
   "execution_count": 5,
   "metadata": {},
   "outputs": [
    {
     "name": "stdout",
     "output_type": "stream",
     "text": [
      "apple\n",
      "wine\n",
      "apple\n"
     ]
    },
    {
     "ename": "NameError",
     "evalue": "name 'drink' is not defined",
     "output_type": "error",
     "traceback": [
      "\u001b[0;31m---------------------------------------------------------------------------\u001b[0m",
      "\u001b[0;31mNameError\u001b[0m                                 Traceback (most recent call last)",
      "\u001b[0;32m<ipython-input-5-1bcfc0e6de17>\u001b[0m in \u001b[0;36m<module>\u001b[0;34m\u001b[0m\n\u001b[1;32m     17\u001b[0m \u001b[0mprint_some_things\u001b[0m\u001b[0;34m(\u001b[0m\u001b[0;34m)\u001b[0m\u001b[0;34m\u001b[0m\u001b[0;34m\u001b[0m\u001b[0m\n\u001b[1;32m     18\u001b[0m \u001b[0mprint\u001b[0m\u001b[0;34m(\u001b[0m\u001b[0mfood\u001b[0m\u001b[0;34m)\u001b[0m\u001b[0;34m\u001b[0m\u001b[0;34m\u001b[0m\u001b[0m\n\u001b[0;32m---> 19\u001b[0;31m \u001b[0mprint\u001b[0m\u001b[0;34m(\u001b[0m\u001b[0mdrink\u001b[0m\u001b[0;34m)\u001b[0m \u001b[0;31m# ???\u001b[0m\u001b[0;34m\u001b[0m\u001b[0;34m\u001b[0m\u001b[0m\n\u001b[0m",
      "\u001b[0;31mNameError\u001b[0m: name 'drink' is not defined"
     ]
    }
   ],
   "source": [
    "food = 'apple'\n",
    "\n",
    "def print_some_things():\n",
    "    drink = 'wine'\n",
    "    print(food)\n",
    "    print(drink)\n",
    "    \n",
    "    \n",
    "print_some_things()\n",
    "print(food)\n",
    "print(drink) # ???"
   ]
  },
  {
   "cell_type": "code",
   "execution_count": 6,
   "metadata": {},
   "outputs": [
    {
     "data": {
      "text/plain": [
       "<function __main__.print_some_things()>"
      ]
     },
     "execution_count": 6,
     "metadata": {},
     "output_type": "execute_result"
    }
   ],
   "source": [
    "print_some_things"
   ]
  },
  {
   "cell_type": "code",
   "execution_count": 7,
   "metadata": {},
   "outputs": [
    {
     "name": "stdout",
     "output_type": "stream",
     "text": [
      "apple\n",
      "wine\n"
     ]
    }
   ],
   "source": [
    "thing_to_do = print_some_things\n",
    "thing_to_do()"
   ]
  },
  {
   "cell_type": "markdown",
   "metadata": {},
   "source": [
    "Passing Arguments\n",
    "-----------------"
   ]
  },
  {
   "cell_type": "code",
   "execution_count": 9,
   "metadata": {},
   "outputs": [
    {
     "name": "stdout",
     "output_type": "stream",
     "text": [
      "Hello, Maru\n"
     ]
    }
   ],
   "source": [
    "def hello(name):\n",
    "    print(f\"Hello, {name}\")\n",
    "    \n",
    "hello('Maru')"
   ]
  },
  {
   "cell_type": "markdown",
   "metadata": {},
   "source": [
    "Positional Arguments\n",
    "--------------------"
   ]
  },
  {
   "cell_type": "code",
   "execution_count": 17,
   "metadata": {},
   "outputs": [
    {
     "name": "stdout",
     "output_type": "stream",
     "text": [
      "Bob: A hotdog please\n",
      "Amy: No problem\n"
     ]
    }
   ],
   "source": [
    "def post_message(message, user):\n",
    "    \"\"\"Post a message from a user.\"\"\"\n",
    "    print(f'{user}: {message}') # Just an 'inline' comment\n",
    "    # On a line by itself.\n",
    "          \n",
    "post_message(\"A hotdog please\", 'Bob')\n",
    "post_message(\"No problem\", 'Amy')"
   ]
  },
  {
   "cell_type": "code",
   "execution_count": 15,
   "metadata": {},
   "outputs": [
    {
     "name": "stdout",
     "output_type": "stream",
     "text": [
      "Help on function post_message in module __main__:\n",
      "\n",
      "post_message(message, user)\n",
      "    Post a message from a user.\n",
      "\n"
     ]
    }
   ],
   "source": [
    "help(post_message)"
   ]
  },
  {
   "cell_type": "code",
   "execution_count": 16,
   "metadata": {},
   "outputs": [],
   "source": [
    "# NOT Pythonic:\n",
    "\n",
    "# Post a message from a user.\n",
    "def post_message(message, user):\n",
    "    pass"
   ]
  },
  {
   "cell_type": "code",
   "execution_count": 18,
   "metadata": {},
   "outputs": [
    {
     "name": "stdout",
     "output_type": "stream",
     "text": [
      "What time is it: Mark\n"
     ]
    }
   ],
   "source": [
    "post_message('Mark', 'What time is it')"
   ]
  },
  {
   "cell_type": "code",
   "execution_count": 19,
   "metadata": {},
   "outputs": [
    {
     "ename": "TypeError",
     "evalue": "post_message() missing 2 required positional arguments: 'message' and 'user'",
     "output_type": "error",
     "traceback": [
      "\u001b[0;31m---------------------------------------------------------------------------\u001b[0m",
      "\u001b[0;31mTypeError\u001b[0m                                 Traceback (most recent call last)",
      "\u001b[0;32m<ipython-input-19-7f4da39d2c6d>\u001b[0m in \u001b[0;36m<module>\u001b[0;34m\u001b[0m\n\u001b[0;32m----> 1\u001b[0;31m \u001b[0mpost_message\u001b[0m\u001b[0;34m(\u001b[0m\u001b[0;34m)\u001b[0m\u001b[0;34m\u001b[0m\u001b[0;34m\u001b[0m\u001b[0m\n\u001b[0m",
      "\u001b[0;31mTypeError\u001b[0m: post_message() missing 2 required positional arguments: 'message' and 'user'"
     ]
    }
   ],
   "source": [
    "post_message()"
   ]
  },
  {
   "cell_type": "code",
   "execution_count": 20,
   "metadata": {},
   "outputs": [
    {
     "ename": "TypeError",
     "evalue": "post_message() missing 1 required positional argument: 'user'",
     "output_type": "error",
     "traceback": [
      "\u001b[0;31m---------------------------------------------------------------------------\u001b[0m",
      "\u001b[0;31mTypeError\u001b[0m                                 Traceback (most recent call last)",
      "\u001b[0;32m<ipython-input-20-48ca76552e4b>\u001b[0m in \u001b[0;36m<module>\u001b[0;34m\u001b[0m\n\u001b[0;32m----> 1\u001b[0;31m \u001b[0mpost_message\u001b[0m\u001b[0;34m(\u001b[0m\u001b[0;34m'good morning'\u001b[0m\u001b[0;34m)\u001b[0m\u001b[0;34m\u001b[0m\u001b[0;34m\u001b[0m\u001b[0m\n\u001b[0m",
      "\u001b[0;31mTypeError\u001b[0m: post_message() missing 1 required positional argument: 'user'"
     ]
    }
   ],
   "source": [
    "post_message('good morning')"
   ]
  },
  {
   "cell_type": "code",
   "execution_count": 21,
   "metadata": {},
   "outputs": [
    {
     "ename": "TypeError",
     "evalue": "post_message() takes 2 positional arguments but 3 were given",
     "output_type": "error",
     "traceback": [
      "\u001b[0;31m---------------------------------------------------------------------------\u001b[0m",
      "\u001b[0;31mTypeError\u001b[0m                                 Traceback (most recent call last)",
      "\u001b[0;32m<ipython-input-21-9a802aba5503>\u001b[0m in \u001b[0;36m<module>\u001b[0;34m\u001b[0m\n\u001b[0;32m----> 1\u001b[0;31m \u001b[0mpost_message\u001b[0m\u001b[0;34m(\u001b[0m\u001b[0;34m'good morning'\u001b[0m\u001b[0;34m,\u001b[0m \u001b[0;34m'steve'\u001b[0m\u001b[0;34m,\u001b[0m \u001b[0;36m900\u001b[0m\u001b[0;34m)\u001b[0m\u001b[0;34m\u001b[0m\u001b[0;34m\u001b[0m\u001b[0m\n\u001b[0m",
      "\u001b[0;31mTypeError\u001b[0m: post_message() takes 2 positional arguments but 3 were given"
     ]
    }
   ],
   "source": [
    "post_message('good morning', 'steve', 900)"
   ]
  },
  {
   "cell_type": "markdown",
   "metadata": {},
   "source": [
    "Arbitrary positional arguments\n",
    "------------------------------"
   ]
  },
  {
   "cell_type": "code",
   "execution_count": 22,
   "metadata": {},
   "outputs": [
    {
     "name": "stdout",
     "output_type": "stream",
     "text": [
      "robb said...\n",
      "  hello\n"
     ]
    }
   ],
   "source": [
    "def post_message(user, *messages):\n",
    "    print(f'{user} said...')\n",
    "    for msg in messages:\n",
    "        print(f'  {msg}')\n",
    "        \n",
    "post_message('robb', 'hello')"
   ]
  },
  {
   "cell_type": "code",
   "execution_count": 23,
   "metadata": {},
   "outputs": [
    {
     "name": "stdout",
     "output_type": "stream",
     "text": [
      "robb said...\n",
      "  hello\n",
      "  goodbye\n"
     ]
    }
   ],
   "source": [
    "post_message('robb', 'hello', 'goodbye')"
   ]
  },
  {
   "cell_type": "markdown",
   "metadata": {},
   "source": [
    "Keyword Arguments\n",
    "-----------------"
   ]
  },
  {
   "cell_type": "code",
   "execution_count": 25,
   "metadata": {},
   "outputs": [
    {
     "ename": "TypeError",
     "evalue": "post_message() got multiple values for argument 'user'",
     "output_type": "error",
     "traceback": [
      "\u001b[0;31m---------------------------------------------------------------------------\u001b[0m",
      "\u001b[0;31mTypeError\u001b[0m                                 Traceback (most recent call last)",
      "\u001b[0;32m<ipython-input-25-ba3db09e4e3d>\u001b[0m in \u001b[0;36m<module>\u001b[0;34m\u001b[0m\n\u001b[0;32m----> 1\u001b[0;31m \u001b[0mpost_message\u001b[0m\u001b[0;34m(\u001b[0m\u001b[0;34m'i'\u001b[0m\u001b[0;34m,\u001b[0m \u001b[0;34m'am'\u001b[0m\u001b[0;34m,\u001b[0m \u001b[0;34m'hungry'\u001b[0m\u001b[0;34m,\u001b[0m \u001b[0muser\u001b[0m\u001b[0;34m=\u001b[0m\u001b[0;34m'Maru'\u001b[0m\u001b[0;34m)\u001b[0m\u001b[0;34m\u001b[0m\u001b[0;34m\u001b[0m\u001b[0m\n\u001b[0m",
      "\u001b[0;31mTypeError\u001b[0m: post_message() got multiple values for argument 'user'"
     ]
    }
   ],
   "source": [
    "post_message('i', 'am', 'hungry', user='Maru')"
   ]
  },
  {
   "cell_type": "code",
   "execution_count": 28,
   "metadata": {},
   "outputs": [
    {
     "name": "stdout",
     "output_type": "stream",
     "text": [
      "Got a: 3\n",
      "Got b: 4\n"
     ]
    },
    {
     "data": {
      "text/plain": [
       "5.0"
      ]
     },
     "execution_count": 28,
     "metadata": {},
     "output_type": "execute_result"
    }
   ],
   "source": [
    "from math import sqrt\n",
    "\n",
    "def hypotenuse(a, b):\n",
    "    print(f'Got a: {a}')\n",
    "    print(f'Got b: {b}')\n",
    "    \n",
    "    return sqrt(a**2 + b**2)\n",
    "\n",
    "hypotenuse(3, 4)\n",
    "    "
   ]
  },
  {
   "cell_type": "code",
   "execution_count": 29,
   "metadata": {},
   "outputs": [
    {
     "name": "stdout",
     "output_type": "stream",
     "text": [
      "Got a: 4\n",
      "Got b: 5\n"
     ]
    },
    {
     "data": {
      "text/plain": [
       "6.4031242374328485"
      ]
     },
     "execution_count": 29,
     "metadata": {},
     "output_type": "execute_result"
    }
   ],
   "source": [
    "hypotenuse(a=4, b=5)"
   ]
  },
  {
   "cell_type": "code",
   "execution_count": 30,
   "metadata": {},
   "outputs": [
    {
     "name": "stdout",
     "output_type": "stream",
     "text": [
      "Got a: 4\n",
      "Got b: 5\n"
     ]
    },
    {
     "data": {
      "text/plain": [
       "6.4031242374328485"
      ]
     },
     "execution_count": 30,
     "metadata": {},
     "output_type": "execute_result"
    }
   ],
   "source": [
    "hypotenuse(b=5, a=4)"
   ]
  },
  {
   "cell_type": "code",
   "execution_count": 31,
   "metadata": {},
   "outputs": [
    {
     "name": "stdout",
     "output_type": "stream",
     "text": [
      "Help on function hypotenuse in module __main__:\n",
      "\n",
      "hypotenuse(a, b)\n",
      "\n"
     ]
    }
   ],
   "source": [
    "help(hypotenuse)"
   ]
  },
  {
   "cell_type": "code",
   "execution_count": 32,
   "metadata": {},
   "outputs": [],
   "source": [
    "def post_message(message, user):\n",
    "    \"\"\"Post a better message from a user.\"\"\"\n",
    "    print(f'{user} said, \"{message}\"')"
   ]
  },
  {
   "cell_type": "code",
   "execution_count": 33,
   "metadata": {},
   "outputs": [
    {
     "name": "stdout",
     "output_type": "stream",
     "text": [
      "zed said, \"hi\"\n"
     ]
    }
   ],
   "source": [
    "post_message(message='hi', user='zed')"
   ]
  },
  {
   "cell_type": "code",
   "execution_count": 34,
   "metadata": {},
   "outputs": [
    {
     "name": "stdout",
     "output_type": "stream",
     "text": [
      "zed said, \"hi\"\n"
     ]
    }
   ],
   "source": [
    "post_message(user='zed', message='hi')"
   ]
  },
  {
   "cell_type": "code",
   "execution_count": 35,
   "metadata": {},
   "outputs": [],
   "source": [
    "# Maybe a better API\n",
    "def post_via_email(message, user):\n",
    "    \"\"\"Post a better message from a user.\"\"\"\n",
    "    print(f'{user} said, \"{message}\"')"
   ]
  },
  {
   "cell_type": "markdown",
   "metadata": {},
   "source": [
    "Arbitrary Keyword Arguments\n",
    "---------------------------"
   ]
  },
  {
   "cell_type": "code",
   "execution_count": 38,
   "metadata": {},
   "outputs": [
    {
     "name": "stdout",
     "output_type": "stream",
     "text": [
      "robb ate:\n",
      "  For breakfast, they ate ham and eggs\n",
      "  For lunch, they ate hamburger\n",
      "  For dinner, they ate rice\n",
      "robb ate:\n",
      "  For year, they ate 1984\n"
     ]
    }
   ],
   "source": [
    "def enter_food(name, **meals):\n",
    "    print(f'{name} ate:')\n",
    "    for meal_name, food in meals.items():\n",
    "        print(f'  For {meal_name}, they ate {food}')\n",
    "    \n",
    "\n",
    "enter_food('robb', breakfast='ham and eggs', lunch='hamburger', dinner='rice')\n",
    "enter_food('robb', year=1984)"
   ]
  },
  {
   "cell_type": "markdown",
   "metadata": {},
   "source": [
    "Default values\n",
    "--------------"
   ]
  },
  {
   "cell_type": "code",
   "execution_count": 39,
   "metadata": {},
   "outputs": [
    {
     "name": "stdout",
     "output_type": "stream",
     "text": [
      "Helpdesk says 'A snowstorm is expected'\n"
     ]
    }
   ],
   "source": [
    "def post_message(message, user='Helpdesk'):\n",
    "    print(f\"{user} says '{message}'\")\n",
    "    \n",
    "post_message('A snowstorm is expected')"
   ]
  },
  {
   "cell_type": "code",
   "execution_count": 41,
   "metadata": {},
   "outputs": [
    {
     "name": "stdout",
     "output_type": "stream",
     "text": [
      "Zoe says 'Good morning'\n"
     ]
    }
   ],
   "source": [
    "post_message('Good morning', user='Zoe')"
   ]
  },
  {
   "cell_type": "code",
   "execution_count": 43,
   "metadata": {},
   "outputs": [
    {
     "name": "stdout",
     "output_type": "stream",
     "text": [
      "Zoe says 'Good morning'\n"
     ]
    }
   ],
   "source": [
    "def post_message(message, user='Helpdesk', urgent=False):\n",
    "    if urgent:\n",
    "        print('************************')\n",
    "\n",
    "    print(f\"{user} says '{message}'\")\n",
    "    \n",
    "    if urgent:\n",
    "        print('************************')\n",
    "\n",
    "post_message('Good morning', user='Zoe')"
   ]
  },
  {
   "cell_type": "code",
   "execution_count": 46,
   "metadata": {},
   "outputs": [
    {
     "name": "stdout",
     "output_type": "stream",
     "text": [
      "************************\n",
      "Helpdesk says 'The building is on fire!'\n",
      "************************\n"
     ]
    }
   ],
   "source": [
    "post_message('The building is on fire!', urgent=True)"
   ]
  },
  {
   "cell_type": "code",
   "execution_count": 51,
   "metadata": {},
   "outputs": [
    {
     "name": "stdout",
     "output_type": "stream",
     "text": [
      "************************\n",
      "Helpdesk says 'Status: on fire'\n",
      "************************\n",
      "************************\n",
      "Helpdesk says 'Status: on fire'\n",
      "************************\n"
     ]
    }
   ],
   "source": [
    "# We've got some code\n",
    "# ...\n",
    "message = 'Status: on fire'\n",
    "# ...\n",
    "\n",
    "# Send out the message\n",
    "if 'fire' in message:\n",
    "    post_message(message, urgent=True)\n",
    "else:\n",
    "    post_message(message, urgent=False)\n",
    "    \n",
    "# A little better\n",
    "post_message(message, urgent='fire' in message)"
   ]
  },
  {
   "cell_type": "code",
   "execution_count": 53,
   "metadata": {},
   "outputs": [
    {
     "name": "stdout",
     "output_type": "stream",
     "text": [
      "************************\n",
      "Helpdesk says 'Status: on fire'\n",
      "************************\n"
     ]
    }
   ],
   "source": [
    "# After a couple of \"refactorings\":\n",
    "\n",
    "def post_basic_message(message, user='Helpdesk'):\n",
    "    print(f\"{user} says '{message}'\")\n",
    "\n",
    "\n",
    "def post_urgent_message(message, user='Helpdesk'):\n",
    "    print('************************')\n",
    "    post_basic_message(message, user)\n",
    "    print('************************')\n",
    "\n",
    "    \n",
    "# Send out the message\n",
    "if 'fire' in message:\n",
    "    post_urgent_message(message)\n",
    "else:\n",
    "    post_basic_message(message)\n"
   ]
  },
  {
   "cell_type": "markdown",
   "metadata": {},
   "source": [
    "Return Values\n",
    "-------------"
   ]
  },
  {
   "cell_type": "code",
   "execution_count": 54,
   "metadata": {},
   "outputs": [
    {
     "name": "stdout",
     "output_type": "stream",
     "text": [
      "Helpdesk says 'hi'\n"
     ]
    }
   ],
   "source": [
    "result = post_basic_message('hi')"
   ]
  },
  {
   "cell_type": "code",
   "execution_count": 55,
   "metadata": {},
   "outputs": [],
   "source": [
    "result"
   ]
  },
  {
   "cell_type": "code",
   "execution_count": 56,
   "metadata": {},
   "outputs": [
    {
     "data": {
      "text/plain": [
       "NoneType"
      ]
     },
     "execution_count": 56,
     "metadata": {},
     "output_type": "execute_result"
    }
   ],
   "source": [
    "type(result)"
   ]
  },
  {
   "cell_type": "code",
   "execution_count": 57,
   "metadata": {},
   "outputs": [
    {
     "data": {
      "text/plain": [
       "True"
      ]
     },
     "execution_count": 57,
     "metadata": {},
     "output_type": "execute_result"
    }
   ],
   "source": [
    "result == None"
   ]
  },
  {
   "cell_type": "code",
   "execution_count": 58,
   "metadata": {},
   "outputs": [
    {
     "data": {
      "text/plain": [
       "['__bool__',\n",
       " '__class__',\n",
       " '__delattr__',\n",
       " '__dir__',\n",
       " '__doc__',\n",
       " '__eq__',\n",
       " '__format__',\n",
       " '__ge__',\n",
       " '__getattribute__',\n",
       " '__gt__',\n",
       " '__hash__',\n",
       " '__init__',\n",
       " '__init_subclass__',\n",
       " '__le__',\n",
       " '__lt__',\n",
       " '__ne__',\n",
       " '__new__',\n",
       " '__reduce__',\n",
       " '__reduce_ex__',\n",
       " '__repr__',\n",
       " '__setattr__',\n",
       " '__sizeof__',\n",
       " '__str__',\n",
       " '__subclasshook__']"
      ]
     },
     "execution_count": 58,
     "metadata": {},
     "output_type": "execute_result"
    }
   ],
   "source": [
    "dir(result)"
   ]
  },
  {
   "cell_type": "code",
   "execution_count": 61,
   "metadata": {},
   "outputs": [
    {
     "name": "stdout",
     "output_type": "stream",
     "text": [
      "Helpdesk says 'Hello'\n"
     ]
    }
   ],
   "source": [
    "def make_message(message, user='Helpdesk'):\n",
    "    return f\"{user} says '{message}'\"\n",
    "\n",
    "\n",
    "\n",
    "make_message('Hello')"
   ]
  },
  {
   "cell_type": "markdown",
   "metadata": {},
   "source": [
    "Modules\n",
    "-------"
   ]
  },
  {
   "cell_type": "markdown",
   "metadata": {},
   "source": [
    "Importing functions, specific and not\n",
    "-------------------------------------"
   ]
  },
  {
   "cell_type": "code",
   "execution_count": null,
   "metadata": {},
   "outputs": [],
   "source": []
  }
 ],
 "metadata": {
  "kernelspec": {
   "display_name": "Python 3",
   "language": "python",
   "name": "python3"
  },
  "language_info": {
   "codemirror_mode": {
    "name": "ipython",
    "version": 3
   },
   "file_extension": ".py",
   "mimetype": "text/x-python",
   "name": "python",
   "nbconvert_exporter": "python",
   "pygments_lexer": "ipython3",
   "version": "3.7.1"
  }
 },
 "nbformat": 4,
 "nbformat_minor": 2
}
