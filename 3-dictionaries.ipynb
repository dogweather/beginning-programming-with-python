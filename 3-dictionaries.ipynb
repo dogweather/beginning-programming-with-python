{
 "cells": [
  {
   "cell_type": "markdown",
   "metadata": {},
   "source": [
    "Beginning Programming with Python\n",
    "---------------------------------\n",
    "\n",
    "Session 3: Dictionaries\n",
    "======================================\n",
    "\n",
    "* Introduction\n",
    "* Methods\n",
    "* Iterating\n",
    "* Copying (Dictionary comprehensions)\n",
    "* Nested structures\n",
    "  * A list of dictionaries\n",
    "  * A dictionary of lists"
   ]
  },
  {
   "cell_type": "code",
   "execution_count": null,
   "metadata": {},
   "outputs": [],
   "source": []
  }
 ],
 "metadata": {
  "kernelspec": {
   "display_name": "Python 3",
   "language": "python",
   "name": "python3"
  },
  "language_info": {
   "codemirror_mode": {
    "name": "ipython",
    "version": 3
   },
   "file_extension": ".py",
   "mimetype": "text/x-python",
   "name": "python",
   "nbconvert_exporter": "python",
   "pygments_lexer": "ipython3",
   "version": "3.7.1"
  }
 },
 "nbformat": 4,
 "nbformat_minor": 2
}
