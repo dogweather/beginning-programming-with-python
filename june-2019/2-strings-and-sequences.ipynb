{
 "cells": [
  {
   "cell_type": "markdown",
   "metadata": {},
   "source": [
    "Class #2: Strings and Sequences\n",
    "===============================\n",
    "\n",
    "* Talk about the class pacing: 1 hour lecture, 30 mins lab.\n",
    "* Check-in and answer questions about the previous homework.\n",
    "\n",
    "\n",
    "Strings and Sequences\n",
    "---------------------\n",
    "\n",
    "* Using Variables in Strings\n",
    "* Numerical Operations\n",
    "* Working with Numerical Data\n",
    "* Using the Math library\n",
    "* Lists\n",
    "* Removing Items\n",
    "\n",
    "Homework\n",
    "--------\n",
    "\n",
    "* ..."
   ]
  },
  {
   "cell_type": "code",
   "execution_count": null,
   "metadata": {},
   "outputs": [],
   "source": []
  }
 ],
 "metadata": {
  "kernelspec": {
   "display_name": "Python 3",
   "language": "python",
   "name": "python3"
  },
  "language_info": {
   "codemirror_mode": {
    "name": "ipython",
    "version": 3
   },
   "file_extension": ".py",
   "mimetype": "text/x-python",
   "name": "python",
   "nbconvert_exporter": "python",
   "pygments_lexer": "ipython3",
   "version": "3.7.1"
  }
 },
 "nbformat": 4,
 "nbformat_minor": 2
}
