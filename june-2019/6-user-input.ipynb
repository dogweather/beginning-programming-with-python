{
 "cells": [
  {
   "cell_type": "markdown",
   "metadata": {},
   "source": [
    "Class 6: User input and modules\n",
    "=====================================\n",
    "\n",
    "* User input\n",
    "* Simple file input\n",
    "* While loops\n",
    "* Break and continue\n",
    "* Modules\n",
    "* Importing functions\n",
    "  * Importing specific functions\n",
    "\n",
    "\n",
    "Assignments\n",
    "-----------\n",
    "\n",
    "* [High Scores](https://exercism.io/my/solutions/47ef13d3e26f4db4b3d29642a0d7898b)\n",
    "* [Run Length Encoding](https://exercism.io/my/solutions/dcecc48e48544500b7a7c552f23196f1)\n",
    "* [Markdown - a refactoring exercise](https://exercism.io/my/solutions/ff3399a403054ce098b50932c9cd3902)\n",
    "* [Grep](https://exercism.io/my/solutions/70d6ff8d35c94e658791fe1d5f35e377)"
   ]
  },
  {
   "cell_type": "markdown",
   "metadata": {},
   "source": [
    "User Input\n",
    "----------"
   ]
  },
  {
   "cell_type": "code",
   "execution_count": 1,
   "metadata": {},
   "outputs": [
    {
     "name": "stdin",
     "output_type": "stream",
     "text": [
      "What's your name?  Robb\n"
     ]
    }
   ],
   "source": [
    "name = input(\"What's your name? \")"
   ]
  },
  {
   "cell_type": "code",
   "execution_count": 2,
   "metadata": {},
   "outputs": [
    {
     "name": "stdout",
     "output_type": "stream",
     "text": [
      "Good to meet you, Robb!\n"
     ]
    }
   ],
   "source": [
    "print(f\"Good to meet you, {name}!\")"
   ]
  },
  {
   "cell_type": "markdown",
   "metadata": {},
   "source": [
    "While loops, break, and continue\n",
    "--------------------------------"
   ]
  },
  {
   "cell_type": "code",
   "execution_count": 5,
   "metadata": {},
   "outputs": [
    {
     "name": "stdout",
     "output_type": "stream",
     "text": [
      "die\n"
     ]
    },
    {
     "name": "stdin",
     "output_type": "stream",
     "text": [
      "Quit yet?  no\n"
     ]
    },
    {
     "name": "stdout",
     "output_type": "stream",
     "text": [
      "die\n"
     ]
    },
    {
     "name": "stdin",
     "output_type": "stream",
     "text": [
      "Quit yet?  no\n"
     ]
    },
    {
     "name": "stdout",
     "output_type": "stream",
     "text": [
      "die\n"
     ]
    },
    {
     "name": "stdin",
     "output_type": "stream",
     "text": [
      "Quit yet?  yes\n"
     ]
    }
   ],
   "source": [
    "users_choice = 'no'\n",
    "\n",
    "while users_choice == 'no':\n",
    "    print('die')\n",
    "    users_choice = input(\"Quit yet? \")"
   ]
  },
  {
   "cell_type": "code",
   "execution_count": 7,
   "metadata": {},
   "outputs": [
    {
     "name": "stdout",
     "output_type": "stream",
     "text": [
      "die\n"
     ]
    },
    {
     "name": "stdin",
     "output_type": "stream",
     "text": [
      "Quit yet?  no\n"
     ]
    },
    {
     "name": "stdout",
     "output_type": "stream",
     "text": [
      "die\n"
     ]
    },
    {
     "name": "stdin",
     "output_type": "stream",
     "text": [
      "Quit yet?  yes!!!!!!\n"
     ]
    }
   ],
   "source": [
    "# Re-doing the above, with \"break\"\n",
    "# Better or worse?\n",
    "\n",
    "while True:\n",
    "    print('die')\n",
    "    \n",
    "    # Decide to quit\n",
    "    users_choice = input(\"Quit yet? \")\n",
    "    if users_choice[0] == 'y':\n",
    "        break"
   ]
  },
  {
   "cell_type": "code",
   "execution_count": 8,
   "metadata": {},
   "outputs": [
    {
     "name": "stdout",
     "output_type": "stream",
     "text": [
      "die\n"
     ]
    },
    {
     "name": "stdin",
     "output_type": "stream",
     "text": [
      "Quit yet?  no\n"
     ]
    },
    {
     "name": "stdout",
     "output_type": "stream",
     "text": [
      " ...going back to the top\n",
      "die\n"
     ]
    },
    {
     "name": "stdin",
     "output_type": "stream",
     "text": [
      "Quit yet?  yes\n"
     ]
    }
   ],
   "source": [
    "\n",
    "while True:\n",
    "    print('die')\n",
    "    \n",
    "    # Decide to quit\n",
    "    users_choice = input(\"Quit yet? \")\n",
    "    if users_choice[0] == 'y':\n",
    "        break\n",
    "        \n",
    "    print(' ...going back to the top')"
   ]
  },
  {
   "cell_type": "code",
   "execution_count": 9,
   "metadata": {},
   "outputs": [
    {
     "name": "stdout",
     "output_type": "stream",
     "text": [
      "die\n"
     ]
    },
    {
     "name": "stdin",
     "output_type": "stream",
     "text": [
      "Quit yet?  no\n",
      "Be verbose?  yes\n"
     ]
    },
    {
     "name": "stdout",
     "output_type": "stream",
     "text": [
      " [being verbose] ...going back to the top\n",
      "die\n"
     ]
    },
    {
     "name": "stdin",
     "output_type": "stream",
     "text": [
      "Quit yet?  no\n",
      "Be verbose?  no\n"
     ]
    },
    {
     "name": "stdout",
     "output_type": "stream",
     "text": [
      "die\n"
     ]
    },
    {
     "name": "stdin",
     "output_type": "stream",
     "text": [
      "Quit yet?  yes\n"
     ]
    }
   ],
   "source": [
    "while True:\n",
    "    print('die')\n",
    "    \n",
    "    # Decide to quit\n",
    "    users_choice = input(\"Quit yet? \")\n",
    "    if users_choice[0] == 'y':\n",
    "        break\n",
    "    \n",
    "    be_verbose = input(\"Be verbose? \")\n",
    "    if be_verbose[0] == 'n':\n",
    "        continue\n",
    "    \n",
    "    print(' [being verbose] ...going back to the top')"
   ]
  },
  {
   "cell_type": "markdown",
   "metadata": {},
   "source": [
    "Modules\n",
    "-------"
   ]
  },
  {
   "cell_type": "code",
   "execution_count": null,
   "metadata": {},
   "outputs": [],
   "source": []
  }
 ],
 "metadata": {
  "kernelspec": {
   "display_name": "Python 3",
   "language": "python",
   "name": "python3"
  },
  "language_info": {
   "codemirror_mode": {
    "name": "ipython",
    "version": 3
   },
   "file_extension": ".py",
   "mimetype": "text/x-python",
   "name": "python",
   "nbconvert_exporter": "python",
   "pygments_lexer": "ipython3",
   "version": "3.7.1"
  }
 },
 "nbformat": 4,
 "nbformat_minor": 2
}
